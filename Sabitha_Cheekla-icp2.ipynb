{
  "nbformat": 4,
  "nbformat_minor": 0,
  "metadata": {
    "colab": {
      "provenance": []
    },
    "kernelspec": {
      "name": "python3",
      "display_name": "Python 3"
    },
    "language_info": {
      "name": "python"
    }
  },
  "cells": [
    {
      "cell_type": "code",
      "source": [],
      "metadata": {
        "id": "jKHwuhKonOK0"
      },
      "execution_count": null,
      "outputs": []
    },
    {
      "cell_type": "code",
      "source": [
        "def fullname(first_name, last_name):\n",
        "    full_name = first_name + \" \" + last_name\n",
        "    return full_name\n",
        "\n",
        "def string_alternative(full_name):\n",
        "    return full_name[::2]\n",
        "\n",
        "def main():\n",
        "    first_name = input(\"First_name = \")\n",
        "    last_name = input(\"Last_name = \")\n",
        "    full_name = fullname(first_name, last_name)\n",
        "    print(\"Full_Name:\", full_name)\n",
        "    str_alt = string_alternative(full_name)\n",
        "    print(\"Every other character in the full_name string:\", str_alt)\n",
        "\n",
        "main()\n"
      ],
      "metadata": {
        "colab": {
          "base_uri": "https://localhost:8080/"
        },
        "id": "MfP_IoSYVLee",
        "outputId": "c923ba97-da99-465f-b49e-5a2a8f97c113"
      },
      "execution_count": 44,
      "outputs": [
        {
          "output_type": "stream",
          "name": "stdout",
          "text": [
            "First_name = Sabitha\n",
            "Last_name = Cheekla\n",
            "Full_Name: Sabitha Cheekla\n",
            "Every other character in the full_name string: SbtaCeka\n"
          ]
        }
      ]
    },
    {
      "cell_type": "code",
      "source": [
        "def file_word_count(line, word_count):\n",
        "    for word in line.split():\n",
        "        word_count[word] = word_count.get(word, 0) + 1\n",
        "\n",
        "def main():\n",
        "    input_file = '/content/drive/My Drive/input.txt'\n",
        "    output_file = '/content/drive/My Drive/output.txt'\n",
        "\n",
        "    word_count = {}\n",
        "    lines = []\n",
        "\n",
        "    try:\n",
        "        with open(input_file, 'r') as input:\n",
        "            for line in input:\n",
        "                line = line.strip()\n",
        "                if line:\n",
        "                    lines.append(line)\n",
        "                    file_word_count(line, word_count)\n",
        "\n",
        "        with open(output_file, 'w') as output:\n",
        "                if len(lines) > 0:\n",
        "                  output.write(lines[0] + '\\n\\n')\n",
        "                if len(lines) > 1:\n",
        "                  output.write(lines[1] + '\\n\\n')\n",
        "\n",
        "                  output.write(\"Word_Count:\\n\\n\")\n",
        "                  for word, count in word_count.items():\n",
        "                    output.write(word + \": \" + str(count) + \"\\n\")\n",
        "\n",
        "\n",
        "        print(\"Output written to\" + output_file)\n",
        "\n",
        "    except FileNotFoundError:\n",
        "        print(\"Error: File \" + input_file + \"not found.\")\n",
        "\n",
        "main()\n"
      ],
      "metadata": {
        "colab": {
          "base_uri": "https://localhost:8080/"
        },
        "id": "hPYBQh55gL_-",
        "outputId": "6d3c6e78-0336-4a72-f506-d77af1a9d540"
      },
      "execution_count": 9,
      "outputs": [
        {
          "output_type": "stream",
          "name": "stdout",
          "text": [
            "Output written to/content/drive/My Drive/output.txt\n"
          ]
        }
      ]
    },
    {
      "cell_type": "code",
      "source": [
        "def inches_to_cm(height):\n",
        "    return round(height * 2.54, 2)\n",
        "\n",
        "def main():\n",
        "    height1 = [150,155, 145, 148]\n",
        "    height2 = []\n",
        "    for height in height1:\n",
        "        height2.append(inches_to_cm(height))\n",
        "\n",
        "    print(\"Heights in inches:\", height1)\n",
        "    print(\"Heights in centimeters:\", height2)\n",
        "\n",
        "main()\n"
      ],
      "metadata": {
        "colab": {
          "base_uri": "https://localhost:8080/"
        },
        "id": "2v74yJpLiizX",
        "outputId": "36782606-10fa-4098-8d83-7d756b53cdc6"
      },
      "execution_count": 7,
      "outputs": [
        {
          "output_type": "stream",
          "name": "stdout",
          "text": [
            "Heights in inches: [150, 155, 145, 148]\n",
            "Heights in centimeters: [381.0, 393.7, 368.3, 375.92]\n"
          ]
        }
      ]
    },
    {
      "cell_type": "code",
      "source": [
        "\n",
        "def inches_to_cm(height):\n",
        "    return round(height * 2.54, 2)\n",
        "height = [150, 155, 145, 148]\n",
        "height1 = [inches_to_cm(height) for height in height]\n",
        "\n",
        "print(\"L1:\", height)\n",
        "print(\"Output:\", height1)\n"
      ],
      "metadata": {
        "id": "XHdXoyPLK2PQ",
        "colab": {
          "base_uri": "https://localhost:8080/"
        },
        "outputId": "0f25a395-3808-4e12-abd9-80b0b02f6477"
      },
      "execution_count": 4,
      "outputs": [
        {
          "output_type": "stream",
          "name": "stdout",
          "text": [
            "L1: [150, 155, 145, 148]\n",
            "Output: [381.0, 393.7, 368.3, 375.92]\n"
          ]
        }
      ]
    },
    {
      "cell_type": "code",
      "source": [
        "from google.colab import drive\n",
        "drive.mount('/content/drive')\n",
        "\n"
      ],
      "metadata": {
        "colab": {
          "base_uri": "https://localhost:8080/"
        },
        "id": "asrxXHGR4vpF",
        "outputId": "d6bbf527-e037-46a6-f0c4-2a4673aad613"
      },
      "execution_count": 8,
      "outputs": [
        {
          "output_type": "stream",
          "name": "stdout",
          "text": [
            "Mounted at /content/drive\n"
          ]
        }
      ]
    }
  ]
}