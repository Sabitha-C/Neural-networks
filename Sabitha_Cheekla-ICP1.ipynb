{
  "nbformat": 4,
  "nbformat_minor": 0,
  "metadata": {
    "colab": {
      "provenance": []
    },
    "kernelspec": {
      "name": "python3",
      "display_name": "Python 3"
    },
    "language_info": {
      "name": "python"
    }
  },
  "cells": [
    {
      "cell_type": "code",
      "source": [
        "x = list(\"python\")\n",
        "del x[:2]\n",
        "x.reverse()\n",
        "rev_string = ''.join(x)\n",
        "print(rev_string)\n",
        "a = int(input(\"Enter first number:\"))\n",
        "b = int(input(\"Enter second number:\"))\n",
        "print(a + b)\n",
        "print(a - b)\n",
        "print(a * b)\n",
        "print(a / b)"
      ],
      "metadata": {
        "colab": {
          "base_uri": "https://localhost:8080/"
        },
        "id": "EseppK_oUMbR",
        "outputId": "029b46ec-5b45-4d1e-cf3e-c443ab0bee83"
      },
      "execution_count": 23,
      "outputs": [
        {
          "output_type": "stream",
          "name": "stdout",
          "text": [
            "noht\n",
            "Enter first number:3\n",
            "Enter second number:1\n",
            "4\n",
            "2\n",
            "3\n",
            "3.0\n"
          ]
        }
      ]
    },
    {
      "cell_type": "code",
      "source": [
        "x = \"I love learning python\"\n",
        "y = x.replace('python' , 'pythons')\n",
        "print(y)"
      ],
      "metadata": {
        "colab": {
          "base_uri": "https://localhost:8080/"
        },
        "id": "5IhVy9gSP_rP",
        "outputId": "7391c2b8-e5e6-4b2d-90f9-62ac47f332e6"
      },
      "execution_count": 2,
      "outputs": [
        {
          "output_type": "stream",
          "name": "stdout",
          "text": [
            "I love learning pythons\n"
          ]
        }
      ]
    },
    {
      "cell_type": "code",
      "source": [
        "score = float(input(\"Enter your score:\"))\n",
        "if score >=90:\n",
        "  grade = 'A'\n",
        "elif score >=80:\n",
        "  grade = 'B'\n",
        "elif score >=70:\n",
        "  grade = 'C'\n",
        "elif score >=60:\n",
        "  grade = 'D'\n",
        "else :\n",
        "  grade = 'F'\n",
        "print(grade)\n"
      ],
      "metadata": {
        "colab": {
          "base_uri": "https://localhost:8080/"
        },
        "id": "qq-hDjRoQS0Y",
        "outputId": "cf49e13a-1824-4243-c54e-41f96473d2c7"
      },
      "execution_count": 30,
      "outputs": [
        {
          "output_type": "stream",
          "name": "stdout",
          "text": [
            "Enter your score:85\n",
            "B\n"
          ]
        }
      ]
    }
  ]
}