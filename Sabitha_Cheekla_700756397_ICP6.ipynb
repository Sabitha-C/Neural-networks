{
  "cells": [
    {
      "cell_type": "code",
      "source": [],
      "metadata": {
        "id": "OvRfSRdm0zXp"
      },
      "execution_count": null,
      "outputs": []
    },
    {
      "cell_type": "code",
      "source": [
        "import pandas as pd\n",
        "from keras.preprocessing.text import Tokenizer\n",
        "from keras.preprocessing.sequence import pad_sequences\n",
        "from keras.models import Sequential, load_model\n",
        "from keras.layers import Dense, Embedding, LSTM, SpatialDropout1D\n",
        "from sklearn.model_selection import train_test_split\n",
        "from keras.utils import to_categorical  # Updated import\n",
        "from sklearn.preprocessing import LabelEncoder\n",
        "import re\n",
        "\n",
        "# Load and preprocess data\n",
        "data = pd.read_csv('Sentiment.csv')\n",
        "data = data[['text', 'sentiment']]\n",
        "\n",
        "data['text'] = data['text'].apply(lambda x: x.lower())\n",
        "data['text'] = data['text'].apply(lambda x: re.sub('[^a-zA-z0-9\\s]', '', x))\n",
        "data['text'] = data['text'].apply(lambda x: x.replace('rt', ' '))\n",
        "\n",
        "# Tokenization and padding\n",
        "max_features = 2000\n",
        "tokenizer = Tokenizer(num_words=max_features, split=' ')\n",
        "tokenizer.fit_on_texts(data['text'].values)\n",
        "X = tokenizer.texts_to_sequences(data['text'].values)\n",
        "X = pad_sequences(X)\n",
        "\n",
        "# Encode labels\n",
        "label_encoder = LabelEncoder()\n",
        "integer_encoded = label_encoder.fit_transform(data['sentiment'])\n",
        "y = to_categorical(integer_encoded)\n",
        "\n",
        "# Split data into training and testing sets\n",
        "X_train, X_test, Y_train, Y_test = train_test_split(X, y, test_size=0.33, random_state=42)\n",
        "\n",
        "# Define LSTM model\n",
        "embed_dim = 128\n",
        "lstm_out = 196\n",
        "\n",
        "def create_model():\n",
        "    model = Sequential()\n",
        "    model.add(Embedding(max_features, embed_dim, input_length=X.shape[1]))\n",
        "    model.add(LSTM(lstm_out, dropout=0.2, recurrent_dropout=0.2))\n",
        "    model.add(Dense(3, activation='softmax'))\n",
        "    model.compile(loss='categorical_crossentropy', optimizer='adam', metrics=['accuracy'])\n",
        "    return model\n",
        "\n",
        "# Create and train the model\n",
        "batch_size = 32\n",
        "epochs = 5\n",
        "model = create_model()\n",
        "model.fit(X_train, Y_train, epochs=epochs, batch_size=batch_size, verbose=2)\n",
        "\n",
        "# Evaluate the model\n",
        "score, acc = model.evaluate(X_test, Y_test, verbose=2, batch_size=batch_size)\n",
        "print(\"Test score:\", score)\n",
        "print(\"Test accuracy:\", acc)\n",
        "\n",
        "# Save the model\n",
        "model.save(\"sentiment_analysis_model.h5\")\n",
        "print(\"Model saved to disk.\")\n",
        "\n",
        "# Load the model for prediction\n",
        "loaded_model = load_model(\"sentiment_analysis_model.h5\")\n",
        "\n",
        "# Example of predicting new text data\n",
        "new_texts = [\n",
        "    \"A lot of good things are happening. We are respected again throughout the world, and that's a great thing. @realDonaldTrump\"\n",
        "]\n",
        "\n",
        "# Preprocess new text data\n",
        "new_texts = [text.lower() for text in new_texts]\n",
        "new_texts = [re.sub('[^a-zA-z0-9\\s]', '', text) for text in new_texts]\n",
        "sequences = tokenizer.texts_to_sequences(new_texts)\n",
        "padded_sequences = pad_sequences(sequences, maxlen=X.shape[1])\n",
        "\n",
        "# Predict sentiment\n",
        "predictions = loaded_model.predict(padded_sequences)\n",
        "sentiments = label_encoder.inverse_transform([predictions.argmax(axis=-1)])\n",
        "\n",
        "# Print predictions\n",
        "for text, sentiment in zip(new_texts, sentiments):\n",
        "    print(f'Text: {text}')\n",
        "    print(f'Predicted Sentiment: {sentiment}')\n",
        "    print()\n"
      ],
      "metadata": {
        "colab": {
          "base_uri": "https://localhost:8080/"
        },
        "id": "Ks3jIhsEd6Mf",
        "outputId": "b1db8643-1c60-40c9-cccd-f143293a96aa"
      },
      "execution_count": null,
      "outputs": [
        {
          "output_type": "stream",
          "name": "stdout",
          "text": [
            "Epoch 1/5\n",
            "291/291 - 51s - loss: 0.8285 - accuracy: 0.6490 - 51s/epoch - 174ms/step\n",
            "Epoch 2/5\n",
            "291/291 - 47s - loss: 0.6817 - accuracy: 0.7096 - 47s/epoch - 162ms/step\n",
            "Epoch 3/5\n",
            "291/291 - 47s - loss: 0.6195 - accuracy: 0.7381 - 47s/epoch - 162ms/step\n",
            "Epoch 4/5\n",
            "291/291 - 45s - loss: 0.5676 - accuracy: 0.7651 - 45s/epoch - 156ms/step\n",
            "Epoch 5/5\n",
            "291/291 - 47s - loss: 0.5224 - accuracy: 0.7830 - 47s/epoch - 162ms/step\n",
            "144/144 - 4s - loss: 0.8423 - accuracy: 0.6706 - 4s/epoch - 30ms/step\n",
            "Test score: 0.8423432111740112\n",
            "Test accuracy: 0.6705985069274902\n",
            "Model saved to disk.\n"
          ]
        },
        {
          "output_type": "stream",
          "name": "stderr",
          "text": [
            "/usr/local/lib/python3.10/dist-packages/keras/src/engine/training.py:3103: UserWarning: You are saving your model as an HDF5 file via `model.save()`. This file format is considered legacy. We recommend using instead the native Keras format, e.g. `model.save('my_model.keras')`.\n",
            "  saving_api.save_model(\n"
          ]
        },
        {
          "output_type": "stream",
          "name": "stdout",
          "text": [
            "1/1 [==============================] - 1s 829ms/step\n",
            "Text: a lot of good things are happening we are respected again throughout the world and thats a great thing realdonaldtrump\n",
            "Predicted Sentiment: Positive\n",
            "\n"
          ]
        },
        {
          "output_type": "stream",
          "name": "stderr",
          "text": [
            "/usr/local/lib/python3.10/dist-packages/sklearn/preprocessing/_label.py:155: DataConversionWarning: A column-vector y was passed when a 1d array was expected. Please change the shape of y to (n_samples, ), for example using ravel().\n",
            "  y = column_or_1d(y, warn=True)\n"
          ]
        }
      ]
    },
    {
      "cell_type": "code",
      "execution_count": null,
      "metadata": {
        "colab": {
          "base_uri": "https://localhost:8080/"
        },
        "id": "BM8kmaZZ2wFs",
        "outputId": "10d20bab-a800-4e48-f1a9-3033c6d62b52"
      },
      "outputs": [
        {
          "name": "stdout",
          "output_type": "stream",
          "text": [
            "Collecting scikeras\n",
            "  Downloading scikeras-0.12.0-py3-none-any.whl (27 kB)\n",
            "Requirement already satisfied: packaging>=0.21 in /usr/local/lib/python3.10/dist-packages (from scikeras) (24.0)\n",
            "Requirement already satisfied: scikit-learn>=1.0.0 in /usr/local/lib/python3.10/dist-packages (from scikeras) (1.2.2)\n",
            "Requirement already satisfied: numpy>=1.17.3 in /usr/local/lib/python3.10/dist-packages (from scikit-learn>=1.0.0->scikeras) (1.25.2)\n",
            "Requirement already satisfied: scipy>=1.3.2 in /usr/local/lib/python3.10/dist-packages (from scikit-learn>=1.0.0->scikeras) (1.11.4)\n",
            "Requirement already satisfied: joblib>=1.1.1 in /usr/local/lib/python3.10/dist-packages (from scikit-learn>=1.0.0->scikeras) (1.3.2)\n",
            "Requirement already satisfied: threadpoolctl>=2.0.0 in /usr/local/lib/python3.10/dist-packages (from scikit-learn>=1.0.0->scikeras) (3.4.0)\n",
            "Installing collected packages: scikeras\n",
            "Successfully installed scikeras-0.12.0\n"
          ]
        }
      ],
      "source": [
        "!pip install scikeras"
      ]
    },
    {
      "cell_type": "code",
      "execution_count": null,
      "metadata": {
        "id": "GC--J1Py20s0"
      },
      "outputs": [],
      "source": [
        "from scikeras.wrappers import KerasClassifier"
      ]
    },
    {
      "cell_type": "code",
      "execution_count": null,
      "metadata": {
        "colab": {
          "base_uri": "https://localhost:8080/"
        },
        "id": "XKfmgeRl24_-",
        "outputId": "20456679-4262-4f70-8864-a0b2cd9bbd64"
      },
      "outputs": [
        {
          "name": "stdout",
          "output_type": "stream",
          "text": [
            "194/194 - 37s - loss: 0.8596 - accuracy: 0.6328 - 37s/epoch - 192ms/step\n",
            "97/97 - 2s - 2s/epoch - 23ms/step\n",
            "194/194 - 41s - loss: 0.8563 - accuracy: 0.6297 - 41s/epoch - 210ms/step\n",
            "97/97 - 3s - 3s/epoch - 34ms/step\n",
            "194/194 - 36s - loss: 0.8773 - accuracy: 0.6278 - 36s/epoch - 186ms/step\n",
            "97/97 - 2s - 2s/epoch - 23ms/step\n",
            "194/194 - 32s - loss: 0.8712 - accuracy: 0.6326 - 32s/epoch - 167ms/step\n",
            "97/97 - 3s - 3s/epoch - 28ms/step\n",
            "194/194 - 33s - loss: 0.8588 - accuracy: 0.6292 - 33s/epoch - 171ms/step\n",
            "97/97 - 3s - 3s/epoch - 27ms/step\n",
            "194/194 - 34s - loss: 0.8675 - accuracy: 0.6252 - 34s/epoch - 173ms/step\n",
            "97/97 - 2s - 2s/epoch - 23ms/step\n",
            "Epoch 1/2\n",
            "194/194 - 33s - loss: 0.8632 - accuracy: 0.6300 - 33s/epoch - 171ms/step\n",
            "Epoch 2/2\n",
            "194/194 - 29s - loss: 0.7171 - accuracy: 0.6888 - 29s/epoch - 151ms/step\n",
            "97/97 - 3s - 3s/epoch - 32ms/step\n",
            "Epoch 1/2\n",
            "194/194 - 33s - loss: 0.8599 - accuracy: 0.6271 - 33s/epoch - 170ms/step\n",
            "Epoch 2/2\n",
            "194/194 - 30s - loss: 0.6978 - accuracy: 0.6991 - 30s/epoch - 157ms/step\n",
            "97/97 - 2s - 2s/epoch - 23ms/step\n",
            "Epoch 1/2\n",
            "194/194 - 35s - loss: 0.8553 - accuracy: 0.6285 - 35s/epoch - 179ms/step\n",
            "Epoch 2/2\n",
            "194/194 - 29s - loss: 0.6883 - accuracy: 0.7022 - 29s/epoch - 151ms/step\n",
            "97/97 - 2s - 2s/epoch - 23ms/step\n",
            "Epoch 1/2\n",
            "194/194 - 35s - loss: 0.8565 - accuracy: 0.6320 - 35s/epoch - 178ms/step\n",
            "Epoch 2/2\n",
            "194/194 - 29s - loss: 0.7122 - accuracy: 0.6949 - 29s/epoch - 150ms/step\n",
            "97/97 - 3s - 3s/epoch - 34ms/step\n",
            "Epoch 1/2\n",
            "194/194 - 33s - loss: 0.8660 - accuracy: 0.6295 - 33s/epoch - 168ms/step\n",
            "Epoch 2/2\n",
            "194/194 - 30s - loss: 0.7025 - accuracy: 0.6999 - 30s/epoch - 157ms/step\n",
            "97/97 - 2s - 2s/epoch - 23ms/step\n",
            "Epoch 1/2\n",
            "194/194 - 35s - loss: 0.8494 - accuracy: 0.6320 - 35s/epoch - 181ms/step\n",
            "Epoch 2/2\n",
            "194/194 - 30s - loss: 0.6845 - accuracy: 0.7093 - 30s/epoch - 156ms/step\n",
            "97/97 - 3s - 3s/epoch - 30ms/step\n",
            "97/97 - 30s - loss: 0.8820 - accuracy: 0.6182 - 30s/epoch - 309ms/step\n",
            "49/49 - 3s - 3s/epoch - 51ms/step\n",
            "97/97 - 28s - loss: 0.8731 - accuracy: 0.6228 - 28s/epoch - 290ms/step\n",
            "49/49 - 3s - 3s/epoch - 52ms/step\n",
            "97/97 - 30s - loss: 0.8955 - accuracy: 0.6165 - 30s/epoch - 307ms/step\n",
            "49/49 - 2s - 2s/epoch - 51ms/step\n",
            "97/97 - 29s - loss: 0.8696 - accuracy: 0.6263 - 29s/epoch - 298ms/step\n",
            "49/49 - 2s - 2s/epoch - 50ms/step\n",
            "97/97 - 29s - loss: 0.8740 - accuracy: 0.6218 - 29s/epoch - 304ms/step\n",
            "49/49 - 3s - 3s/epoch - 65ms/step\n",
            "97/97 - 28s - loss: 0.8783 - accuracy: 0.6241 - 28s/epoch - 289ms/step\n",
            "49/49 - 3s - 3s/epoch - 67ms/step\n",
            "Epoch 1/2\n",
            "97/97 - 29s - loss: 0.8779 - accuracy: 0.6242 - 29s/epoch - 302ms/step\n",
            "Epoch 2/2\n",
            "97/97 - 25s - loss: 0.7220 - accuracy: 0.6949 - 25s/epoch - 259ms/step\n",
            "49/49 - 3s - 3s/epoch - 68ms/step\n",
            "Epoch 1/2\n",
            "97/97 - 29s - loss: 0.8862 - accuracy: 0.6176 - 29s/epoch - 303ms/step\n",
            "Epoch 2/2\n",
            "97/97 - 25s - loss: 0.7242 - accuracy: 0.6894 - 25s/epoch - 254ms/step\n",
            "49/49 - 2s - 2s/epoch - 50ms/step\n",
            "Epoch 1/2\n",
            "97/97 - 28s - loss: 0.8839 - accuracy: 0.6164 - 28s/epoch - 287ms/step\n",
            "Epoch 2/2\n",
            "97/97 - 25s - loss: 0.7149 - accuracy: 0.6877 - 25s/epoch - 255ms/step\n",
            "49/49 - 3s - 3s/epoch - 52ms/step\n",
            "Epoch 1/2\n",
            "97/97 - 30s - loss: 0.8833 - accuracy: 0.6216 - 30s/epoch - 309ms/step\n",
            "Epoch 2/2\n",
            "97/97 - 26s - loss: 0.7304 - accuracy: 0.6931 - 26s/epoch - 272ms/step\n",
            "49/49 - 4s - 4s/epoch - 83ms/step\n",
            "Epoch 1/2\n",
            "97/97 - 39s - loss: 0.8786 - accuracy: 0.6179 - 39s/epoch - 398ms/step\n",
            "Epoch 2/2\n",
            "97/97 - 27s - loss: 0.7233 - accuracy: 0.6889 - 27s/epoch - 278ms/step\n",
            "49/49 - 4s - 4s/epoch - 83ms/step\n",
            "Epoch 1/2\n",
            "97/97 - 33s - loss: 0.8707 - accuracy: 0.6198 - 33s/epoch - 336ms/step\n",
            "Epoch 2/2\n",
            "97/97 - 30s - loss: 0.7207 - accuracy: 0.6833 - 30s/epoch - 308ms/step\n",
            "49/49 - 3s - 3s/epoch - 52ms/step\n",
            "Epoch 1/2\n",
            "291/291 - 49s - loss: 0.8301 - accuracy: 0.6416 - 49s/epoch - 170ms/step\n",
            "Epoch 2/2\n",
            "291/291 - 46s - loss: 0.6884 - accuracy: 0.7066 - 46s/epoch - 158ms/step\n",
            "Best: 0.672548 using {'batch_size': 32, 'epochs': 2, 'optimizer': 'adam'}\n"
          ]
        }
      ],
      "source": [
        "import pandas as pd\n",
        "import re\n",
        "from tensorflow.keras.preprocessing.text import Tokenizer\n",
        "from tensorflow.keras.preprocessing.sequence import pad_sequences\n",
        "from tensorflow.keras.models import Sequential\n",
        "from tensorflow.keras.layers import Dense, Embedding, LSTM, SpatialDropout1D\n",
        "from tensorflow.keras.utils import to_categorical\n",
        "from sklearn.model_selection import train_test_split, GridSearchCV\n",
        "from sklearn.preprocessing import LabelEncoder\n",
        "from scikeras.wrappers import KerasClassifier\n",
        "\n",
        "# Assuming the data loading and preprocessing steps are the same\n",
        "\n",
        "max_features = 2000\n",
        "tokenizer = Tokenizer(num_words=max_features, split=' ')\n",
        "# Assuming tokenizer fitting and text preprocessing is done here\n",
        "\n",
        "def createmodel(optimizer='adam'):\n",
        "    model = Sequential()\n",
        "    model.add(Embedding(max_features, embed_dim, input_length=X.shape[1]))\n",
        "    model.add(SpatialDropout1D(0.2))\n",
        "    model.add(LSTM(lstm_out, dropout=0.2, recurrent_dropout=0.2))\n",
        "    model.add(Dense(3, activation='softmax'))\n",
        "    model.compile(loss='categorical_crossentropy', optimizer=optimizer, metrics=['accuracy'])\n",
        "    return model\n",
        "\n",
        "# Define the KerasClassifier with the build_fn as our model creation function\n",
        "model = KerasClassifier(model=createmodel, verbose=2)\n",
        "\n",
        "# Define hyperparameters to tune\n",
        "param_grid = {\n",
        "    'batch_size': [32, 64],\n",
        "    'epochs': [1, 2],\n",
        "    'optimizer': ['adam', 'rmsprop']\n",
        "}\n",
        "\n",
        "# Initialize GridSearchCV\n",
        "grid = GridSearchCV(estimator=model, param_grid=param_grid, n_jobs=1, cv=3)\n",
        "# Fit GridSearchCV\n",
        "grid_result = grid.fit(X_train, Y_train)\n",
        "\n",
        "# Summarize results\n",
        "print(\"Best: %f using %s\" % (grid_result.best_score_, grid_result.best_params_))\n"
      ]
    }
  ],
  "metadata": {
    "colab": {
      "provenance": []
    },
    "kernelspec": {
      "display_name": "Python 3",
      "name": "python3"
    },
    "language_info": {
      "name": "python"
    }
  },
  "nbformat": 4,
  "nbformat_minor": 0
}